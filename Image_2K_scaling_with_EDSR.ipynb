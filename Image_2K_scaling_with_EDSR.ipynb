{
  "nbformat": 4,
  "nbformat_minor": 0,
  "metadata": {
    "colab": {
      "provenance": [],
      "authorship_tag": "ABX9TyMjLFfiKJ1QRDOiuX5wKU5d",
      "include_colab_link": true
    },
    "kernelspec": {
      "name": "python3",
      "display_name": "Python 3"
    },
    "language_info": {
      "name": "python"
    }
  },
  "cells": [
    {
      "cell_type": "markdown",
      "metadata": {
        "id": "view-in-github",
        "colab_type": "text"
      },
      "source": [
        "<a href=\"https://colab.research.google.com/github/kikemarti/EDSR-PyTorch/blob/master/Image_2K_scaling_with_EDSR.ipynb\" target=\"_parent\"><img src=\"https://colab.research.google.com/assets/colab-badge.svg\" alt=\"Open In Colab\"/></a>"
      ]
    },
    {
      "cell_type": "markdown",
      "source": [
        "# Scaling images to 2K resolution\n",
        "Experiments over the Enhanced Deep Residual Networks for Single Image Super-Resolution [(official repo)](https://github.com/sanghyun-son/EDSR-PyTorch), presented in CVPR 2017."
      ],
      "metadata": {
        "id": "61JooekmQq7i"
      }
    },
    {
      "cell_type": "markdown",
      "source": [
        "---\n",
        "\n",
        "## Clone repo\n",
        "Use my [local fork](https://github.com/kikemarti/EDSR-PyTorch) if it is not available anymore. Forked on 08/01/2023."
      ],
      "metadata": {
        "id": "MFREW579Rg7C"
      }
    },
    {
      "cell_type": "code",
      "source": [
        "# Clone repo and enter folder\n",
        "!git clone https://github.com/thstkdgus35/EDSR-PyTorch\n",
        "!cd EDSR-PyTorch\n"
      ],
      "metadata": {
        "colab": {
          "base_uri": "https://localhost:8080/"
        },
        "id": "igqwsWziRB_Z",
        "outputId": "18612396-0220-4639-a8ba-c7e41c135369"
      },
      "execution_count": 1,
      "outputs": [
        {
          "output_type": "stream",
          "name": "stdout",
          "text": [
            "Cloning into 'EDSR-PyTorch'...\n",
            "remote: Enumerating objects: 806, done.\u001b[K\n",
            "remote: Counting objects: 100% (9/9), done.\u001b[K\n",
            "remote: Compressing objects: 100% (9/9), done.\u001b[K\n",
            "remote: Total 806 (delta 0), reused 1 (delta 0), pack-reused 797\u001b[K\n",
            "Receiving objects: 100% (806/806), 63.10 MiB | 30.33 MiB/s, done.\n",
            "Resolving deltas: 100% (511/511), done.\n"
          ]
        }
      ]
    }
  ]
}